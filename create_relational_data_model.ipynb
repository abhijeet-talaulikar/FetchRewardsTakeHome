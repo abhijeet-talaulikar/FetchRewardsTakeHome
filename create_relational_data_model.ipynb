{
 "cells": [
  {
   "cell_type": "markdown",
   "id": "5dff0923",
   "metadata": {},
   "source": [
    "# What's happening here?"
   ]
  },
  {
   "cell_type": "markdown",
   "id": "bd46fe02",
   "metadata": {},
   "source": [
    "The sample Fetch Rewards data is in 3 files in the JSON Lines format. \n",
    "\n",
    "The JSON Lines cannot be converted to a relational table right away as there is a nesting of upto 3 levels and also normalization issues that lead to redundancies.  \n",
    "\n",
    "In this notebook, I have introduced a relational database design and implemented it one schema at a time resulting in 9 tables in the end.  \n",
    "\n",
    "Finally, I have imported the tables into a MySQL server. I could not add PK and FK constraints because the data is plagued with quality issues that I have addressed in a different file."
   ]
  },
  {
   "cell_type": "markdown",
   "id": "c141fbad",
   "metadata": {},
   "source": [
    "## Import Modules"
   ]
  },
  {
   "cell_type": "markdown",
   "id": "44f78329",
   "metadata": {},
   "source": [
    "Just a couple of file handling modules, the usual toolkit and SQLAlchemy for pushing data into the database server."
   ]
  },
  {
   "cell_type": "code",
   "execution_count": 1,
   "id": "72683639",
   "metadata": {},
   "outputs": [],
   "source": [
    "import os\n",
    "import gzip\n",
    "import shutil\n",
    "\n",
    "import pandas as pd\n",
    "import numpy as np\n",
    "import json\n",
    "\n",
    "from datetime import datetime\n",
    "import swifter\n",
    "\n",
    "from sqlalchemy import create_engine\n",
    "import pymysql"
   ]
  },
  {
   "cell_type": "markdown",
   "id": "d26f55ff",
   "metadata": {},
   "source": [
    "# Section 1: Create Relational Structure"
   ]
  },
  {
   "cell_type": "markdown",
   "id": "005b7cd1",
   "metadata": {},
   "source": [
    "## 1.1 Unzip And Load Data Files"
   ]
  },
  {
   "cell_type": "markdown",
   "id": "caf47834",
   "metadata": {},
   "source": [
    "Since the JSON files were compressed in a gzip, I will unzip them first."
   ]
  },
  {
   "cell_type": "code",
   "execution_count": 2,
   "id": "f5a339f3",
   "metadata": {},
   "outputs": [],
   "source": [
    "for i in os.listdir('Data'):\n",
    "    if 'gz' in i:\n",
    "        path = f'Data/{i}'\n",
    "        with gzip.open(path, 'rb') as f_in:\n",
    "              with open(path.replace('.gz',''), 'wb') as f_out:\n",
    "                shutil.copyfileobj(f_in, f_out)"
   ]
  },
  {
   "cell_type": "code",
   "execution_count": 3,
   "id": "833a3cad",
   "metadata": {},
   "outputs": [],
   "source": [
    "receipts_raw = pd.read_json('Data/receipts.json',lines=True)\n",
    "brands_raw = pd.read_json('Data/brands.json',lines=True)\n",
    "users_raw = pd.read_json('Data/users.json',lines=True)"
   ]
  },
  {
   "cell_type": "markdown",
   "id": "5a182136",
   "metadata": {},
   "source": [
    "## 1.2 Utility Functions"
   ]
  },
  {
   "cell_type": "markdown",
   "id": "059bf5b0",
   "metadata": {},
   "source": [
    "All dates are in UTC timestamps down to milliseconds. Since we don't need that level of minutenesss in time, I think I can safely drop the millisecond parts and convert them to Python datetime objects. The function 'timestamp2datetime' helps with that."
   ]
  },
  {
   "cell_type": "code",
   "execution_count": 4,
   "id": "9340c191",
   "metadata": {},
   "outputs": [],
   "source": [
    "def timestamp2datetime(x):\n",
    "    try:\n",
    "        return (datetime.utcfromtimestamp(x // 1000).strftime('%Y-%m-%d %H:%M:%S'))\n",
    "    except:\n",
    "        return None"
   ]
  },
  {
   "cell_type": "markdown",
   "id": "14e17cb5",
   "metadata": {},
   "source": [
    "You can ignore this one really, it helps me find unique attributes of a collection JSON lines at the highest level of nesting."
   ]
  },
  {
   "cell_type": "code",
   "execution_count": 5,
   "id": "220b1090",
   "metadata": {},
   "outputs": [],
   "source": [
    "def getAllProperties(x):\n",
    "    x_nonnull = x[~x.isna()]\n",
    "    return set().union(*(d.keys() for d in x_nonnull))"
   ]
  },
  {
   "cell_type": "markdown",
   "id": "73f2069c",
   "metadata": {},
   "source": [
    "## 1.3 Create Users Schema"
   ]
  },
  {
   "cell_type": "markdown",
   "id": "69e56d1c",
   "metadata": {},
   "source": [
    "The first schema I create is Users. **These are our customers at Fetch, who follow the primary journey of scanning receipts for their transactions at retail stores.**"
   ]
  },
  {
   "cell_type": "code",
   "execution_count": 6,
   "id": "dcc1acc6",
   "metadata": {},
   "outputs": [
    {
     "name": "stdout",
     "output_type": "stream",
     "text": [
      "<class 'pandas.core.frame.DataFrame'>\n",
      "RangeIndex: 495 entries, 0 to 494\n",
      "Data columns (total 7 columns):\n",
      " #   Column        Non-Null Count  Dtype \n",
      "---  ------        --------------  ----- \n",
      " 0   _id           495 non-null    object\n",
      " 1   active        495 non-null    bool  \n",
      " 2   createdDate   495 non-null    object\n",
      " 3   lastLogin     433 non-null    object\n",
      " 4   role          495 non-null    object\n",
      " 5   signUpSource  447 non-null    object\n",
      " 6   state         439 non-null    object\n",
      "dtypes: bool(1), object(6)\n",
      "memory usage: 23.8+ KB\n"
     ]
    }
   ],
   "source": [
    "users_raw.info()"
   ]
  },
  {
   "cell_type": "code",
   "execution_count": 7,
   "id": "7341bb95",
   "metadata": {},
   "outputs": [
    {
     "data": {
      "text/html": [
       "<div>\n",
       "<style scoped>\n",
       "    .dataframe tbody tr th:only-of-type {\n",
       "        vertical-align: middle;\n",
       "    }\n",
       "\n",
       "    .dataframe tbody tr th {\n",
       "        vertical-align: top;\n",
       "    }\n",
       "\n",
       "    .dataframe thead th {\n",
       "        text-align: right;\n",
       "    }\n",
       "</style>\n",
       "<table border=\"1\" class=\"dataframe\">\n",
       "  <thead>\n",
       "    <tr style=\"text-align: right;\">\n",
       "      <th></th>\n",
       "      <th>_id</th>\n",
       "      <th>active</th>\n",
       "      <th>createdDate</th>\n",
       "      <th>lastLogin</th>\n",
       "      <th>role</th>\n",
       "      <th>signUpSource</th>\n",
       "      <th>state</th>\n",
       "    </tr>\n",
       "  </thead>\n",
       "  <tbody>\n",
       "    <tr>\n",
       "      <th>0</th>\n",
       "      <td>{'$oid': '5ff1e194b6a9d73a3a9f1052'}</td>\n",
       "      <td>True</td>\n",
       "      <td>{'$date': 1609687444800}</td>\n",
       "      <td>{'$date': 1609687537858}</td>\n",
       "      <td>consumer</td>\n",
       "      <td>Email</td>\n",
       "      <td>WI</td>\n",
       "    </tr>\n",
       "    <tr>\n",
       "      <th>1</th>\n",
       "      <td>{'$oid': '5ff1e194b6a9d73a3a9f1052'}</td>\n",
       "      <td>True</td>\n",
       "      <td>{'$date': 1609687444800}</td>\n",
       "      <td>{'$date': 1609687537858}</td>\n",
       "      <td>consumer</td>\n",
       "      <td>Email</td>\n",
       "      <td>WI</td>\n",
       "    </tr>\n",
       "    <tr>\n",
       "      <th>2</th>\n",
       "      <td>{'$oid': '5ff1e194b6a9d73a3a9f1052'}</td>\n",
       "      <td>True</td>\n",
       "      <td>{'$date': 1609687444800}</td>\n",
       "      <td>{'$date': 1609687537858}</td>\n",
       "      <td>consumer</td>\n",
       "      <td>Email</td>\n",
       "      <td>WI</td>\n",
       "    </tr>\n",
       "    <tr>\n",
       "      <th>3</th>\n",
       "      <td>{'$oid': '5ff1e1eacfcf6c399c274ae6'}</td>\n",
       "      <td>True</td>\n",
       "      <td>{'$date': 1609687530554}</td>\n",
       "      <td>{'$date': 1609687530597}</td>\n",
       "      <td>consumer</td>\n",
       "      <td>Email</td>\n",
       "      <td>WI</td>\n",
       "    </tr>\n",
       "    <tr>\n",
       "      <th>4</th>\n",
       "      <td>{'$oid': '5ff1e194b6a9d73a3a9f1052'}</td>\n",
       "      <td>True</td>\n",
       "      <td>{'$date': 1609687444800}</td>\n",
       "      <td>{'$date': 1609687537858}</td>\n",
       "      <td>consumer</td>\n",
       "      <td>Email</td>\n",
       "      <td>WI</td>\n",
       "    </tr>\n",
       "  </tbody>\n",
       "</table>\n",
       "</div>"
      ],
      "text/plain": [
       "                                    _id  active               createdDate  \\\n",
       "0  {'$oid': '5ff1e194b6a9d73a3a9f1052'}    True  {'$date': 1609687444800}   \n",
       "1  {'$oid': '5ff1e194b6a9d73a3a9f1052'}    True  {'$date': 1609687444800}   \n",
       "2  {'$oid': '5ff1e194b6a9d73a3a9f1052'}    True  {'$date': 1609687444800}   \n",
       "3  {'$oid': '5ff1e1eacfcf6c399c274ae6'}    True  {'$date': 1609687530554}   \n",
       "4  {'$oid': '5ff1e194b6a9d73a3a9f1052'}    True  {'$date': 1609687444800}   \n",
       "\n",
       "                  lastLogin      role signUpSource state  \n",
       "0  {'$date': 1609687537858}  consumer        Email    WI  \n",
       "1  {'$date': 1609687537858}  consumer        Email    WI  \n",
       "2  {'$date': 1609687537858}  consumer        Email    WI  \n",
       "3  {'$date': 1609687530597}  consumer        Email    WI  \n",
       "4  {'$date': 1609687537858}  consumer        Email    WI  "
      ]
     },
     "execution_count": 7,
     "metadata": {},
     "output_type": "execute_result"
    }
   ],
   "source": [
    "users_raw.head()"
   ]
  },
  {
   "cell_type": "code",
   "execution_count": 8,
   "id": "2b4687d2",
   "metadata": {},
   "outputs": [
    {
     "name": "stdout",
     "output_type": "stream",
     "text": [
      "Properties of user Id:  {'$oid'}\n",
      "Properties of user createdDate:  {'$date'}\n",
      "Properties of user lastLogin:  {'$date'}\n"
     ]
    }
   ],
   "source": [
    "print(\"Properties of user Id: \", getAllProperties(users_raw['_id']))\n",
    "print(\"Properties of user createdDate: \", getAllProperties(users_raw['createdDate']))\n",
    "print(\"Properties of user lastLogin: \", getAllProperties(users_raw['lastLogin']))"
   ]
  },
  {
   "cell_type": "code",
   "execution_count": 9,
   "id": "d4fdd0dc",
   "metadata": {},
   "outputs": [
    {
     "data": {
      "application/vnd.jupyter.widget-view+json": {
       "model_id": "fae7b3c2ba984272abafc91d41d6a43d",
       "version_major": 2,
       "version_minor": 0
      },
      "text/plain": [
       "Pandas Apply:   0%|          | 0/495 [00:00<?, ?it/s]"
      ]
     },
     "metadata": {},
     "output_type": "display_data"
    },
    {
     "data": {
      "application/vnd.jupyter.widget-view+json": {
       "model_id": "4bcc4a410e45422aa7100e3bd26e07c0",
       "version_major": 2,
       "version_minor": 0
      },
      "text/plain": [
       "Pandas Apply:   0%|          | 0/495 [00:00<?, ?it/s]"
      ]
     },
     "metadata": {},
     "output_type": "display_data"
    },
    {
     "data": {
      "application/vnd.jupyter.widget-view+json": {
       "model_id": "38ad8cc70a774511ba40860107eddb70",
       "version_major": 2,
       "version_minor": 0
      },
      "text/plain": [
       "Pandas Apply:   0%|          | 0/495 [00:00<?, ?it/s]"
      ]
     },
     "metadata": {},
     "output_type": "display_data"
    }
   ],
   "source": [
    "users = users_raw.copy()\n",
    "\n",
    "users['id'] = users['_id'].swifter.apply(lambda x: x['$oid'] if x else np.nan)\n",
    "\n",
    "users['active'] = users['active'].astype(bool).astype('Int32').fillna(0)\n",
    "\n",
    "users['createdDate'] = users['createdDate'].swifter.apply(lambda x: timestamp2datetime(x['$date']) if type(x) is dict else np.nan)\n",
    "users['lastLogin'] = users['lastLogin'].swifter.apply(lambda x: timestamp2datetime(x['$date']) if type(x) is dict else np.nan)\n",
    "\n",
    "users.drop('_id', axis=1, inplace=True)"
   ]
  },
  {
   "cell_type": "code",
   "execution_count": 10,
   "id": "2ab7dce0",
   "metadata": {},
   "outputs": [
    {
     "data": {
      "text/html": [
       "<div>\n",
       "<style scoped>\n",
       "    .dataframe tbody tr th:only-of-type {\n",
       "        vertical-align: middle;\n",
       "    }\n",
       "\n",
       "    .dataframe tbody tr th {\n",
       "        vertical-align: top;\n",
       "    }\n",
       "\n",
       "    .dataframe thead th {\n",
       "        text-align: right;\n",
       "    }\n",
       "</style>\n",
       "<table border=\"1\" class=\"dataframe\">\n",
       "  <thead>\n",
       "    <tr style=\"text-align: right;\">\n",
       "      <th></th>\n",
       "      <th>active</th>\n",
       "      <th>createdDate</th>\n",
       "      <th>lastLogin</th>\n",
       "      <th>role</th>\n",
       "      <th>signUpSource</th>\n",
       "      <th>state</th>\n",
       "      <th>id</th>\n",
       "    </tr>\n",
       "  </thead>\n",
       "  <tbody>\n",
       "    <tr>\n",
       "      <th>0</th>\n",
       "      <td>1</td>\n",
       "      <td>2021-01-03 15:24:04</td>\n",
       "      <td>2021-01-03 15:25:37</td>\n",
       "      <td>consumer</td>\n",
       "      <td>Email</td>\n",
       "      <td>WI</td>\n",
       "      <td>5ff1e194b6a9d73a3a9f1052</td>\n",
       "    </tr>\n",
       "    <tr>\n",
       "      <th>1</th>\n",
       "      <td>1</td>\n",
       "      <td>2021-01-03 15:24:04</td>\n",
       "      <td>2021-01-03 15:25:37</td>\n",
       "      <td>consumer</td>\n",
       "      <td>Email</td>\n",
       "      <td>WI</td>\n",
       "      <td>5ff1e194b6a9d73a3a9f1052</td>\n",
       "    </tr>\n",
       "    <tr>\n",
       "      <th>2</th>\n",
       "      <td>1</td>\n",
       "      <td>2021-01-03 15:24:04</td>\n",
       "      <td>2021-01-03 15:25:37</td>\n",
       "      <td>consumer</td>\n",
       "      <td>Email</td>\n",
       "      <td>WI</td>\n",
       "      <td>5ff1e194b6a9d73a3a9f1052</td>\n",
       "    </tr>\n",
       "    <tr>\n",
       "      <th>3</th>\n",
       "      <td>1</td>\n",
       "      <td>2021-01-03 15:25:30</td>\n",
       "      <td>2021-01-03 15:25:30</td>\n",
       "      <td>consumer</td>\n",
       "      <td>Email</td>\n",
       "      <td>WI</td>\n",
       "      <td>5ff1e1eacfcf6c399c274ae6</td>\n",
       "    </tr>\n",
       "    <tr>\n",
       "      <th>4</th>\n",
       "      <td>1</td>\n",
       "      <td>2021-01-03 15:24:04</td>\n",
       "      <td>2021-01-03 15:25:37</td>\n",
       "      <td>consumer</td>\n",
       "      <td>Email</td>\n",
       "      <td>WI</td>\n",
       "      <td>5ff1e194b6a9d73a3a9f1052</td>\n",
       "    </tr>\n",
       "  </tbody>\n",
       "</table>\n",
       "</div>"
      ],
      "text/plain": [
       "   active          createdDate            lastLogin      role signUpSource  \\\n",
       "0       1  2021-01-03 15:24:04  2021-01-03 15:25:37  consumer        Email   \n",
       "1       1  2021-01-03 15:24:04  2021-01-03 15:25:37  consumer        Email   \n",
       "2       1  2021-01-03 15:24:04  2021-01-03 15:25:37  consumer        Email   \n",
       "3       1  2021-01-03 15:25:30  2021-01-03 15:25:30  consumer        Email   \n",
       "4       1  2021-01-03 15:24:04  2021-01-03 15:25:37  consumer        Email   \n",
       "\n",
       "  state                        id  \n",
       "0    WI  5ff1e194b6a9d73a3a9f1052  \n",
       "1    WI  5ff1e194b6a9d73a3a9f1052  \n",
       "2    WI  5ff1e194b6a9d73a3a9f1052  \n",
       "3    WI  5ff1e1eacfcf6c399c274ae6  \n",
       "4    WI  5ff1e194b6a9d73a3a9f1052  "
      ]
     },
     "execution_count": 10,
     "metadata": {},
     "output_type": "execute_result"
    }
   ],
   "source": [
    "users.head()"
   ]
  },
  {
   "cell_type": "markdown",
   "id": "c1c3ac22",
   "metadata": {},
   "source": [
    "This is the final schema for **Users**."
   ]
  },
  {
   "cell_type": "markdown",
   "id": "4613369c",
   "metadata": {},
   "source": [
    "## 1.4 Create Items, Category and Brands Schemas"
   ]
  },
  {
   "cell_type": "markdown",
   "id": "4980e7d8",
   "metadata": {},
   "source": [
    "Next, I take on brands and their items. **These are our partners who enroll with us to help their Shoppers become Savers**. Every brand is identified by a brandCode.  \n",
    "\n",
    "Strangely, I noticed barCode as a column which is actually a identifier for items.  "
   ]
  },
  {
   "cell_type": "code",
   "execution_count": 11,
   "id": "55e872b1",
   "metadata": {},
   "outputs": [
    {
     "data": {
      "text/html": [
       "<div>\n",
       "<style scoped>\n",
       "    .dataframe tbody tr th:only-of-type {\n",
       "        vertical-align: middle;\n",
       "    }\n",
       "\n",
       "    .dataframe tbody tr th {\n",
       "        vertical-align: top;\n",
       "    }\n",
       "\n",
       "    .dataframe thead th {\n",
       "        text-align: right;\n",
       "    }\n",
       "</style>\n",
       "<table border=\"1\" class=\"dataframe\">\n",
       "  <thead>\n",
       "    <tr style=\"text-align: right;\">\n",
       "      <th></th>\n",
       "      <th>_id</th>\n",
       "      <th>barcode</th>\n",
       "      <th>category</th>\n",
       "      <th>categoryCode</th>\n",
       "      <th>cpg</th>\n",
       "      <th>name</th>\n",
       "      <th>topBrand</th>\n",
       "      <th>brandCode</th>\n",
       "    </tr>\n",
       "  </thead>\n",
       "  <tbody>\n",
       "    <tr>\n",
       "      <th>0</th>\n",
       "      <td>{'$oid': '601ac115be37ce2ead437551'}</td>\n",
       "      <td>511111019862</td>\n",
       "      <td>Baking</td>\n",
       "      <td>BAKING</td>\n",
       "      <td>{'$id': {'$oid': '601ac114be37ce2ead437550'}, ...</td>\n",
       "      <td>test brand @1612366101024</td>\n",
       "      <td>0.0</td>\n",
       "      <td>NaN</td>\n",
       "    </tr>\n",
       "    <tr>\n",
       "      <th>1</th>\n",
       "      <td>{'$oid': '601c5460be37ce2ead43755f'}</td>\n",
       "      <td>511111519928</td>\n",
       "      <td>Beverages</td>\n",
       "      <td>BEVERAGES</td>\n",
       "      <td>{'$id': {'$oid': '5332f5fbe4b03c9a25efd0ba'}, ...</td>\n",
       "      <td>Starbucks</td>\n",
       "      <td>0.0</td>\n",
       "      <td>STARBUCKS</td>\n",
       "    </tr>\n",
       "    <tr>\n",
       "      <th>2</th>\n",
       "      <td>{'$oid': '601ac142be37ce2ead43755d'}</td>\n",
       "      <td>511111819905</td>\n",
       "      <td>Baking</td>\n",
       "      <td>BAKING</td>\n",
       "      <td>{'$id': {'$oid': '601ac142be37ce2ead437559'}, ...</td>\n",
       "      <td>test brand @1612366146176</td>\n",
       "      <td>0.0</td>\n",
       "      <td>TEST BRANDCODE @1612366146176</td>\n",
       "    </tr>\n",
       "    <tr>\n",
       "      <th>3</th>\n",
       "      <td>{'$oid': '601ac142be37ce2ead43755a'}</td>\n",
       "      <td>511111519874</td>\n",
       "      <td>Baking</td>\n",
       "      <td>BAKING</td>\n",
       "      <td>{'$id': {'$oid': '601ac142be37ce2ead437559'}, ...</td>\n",
       "      <td>test brand @1612366146051</td>\n",
       "      <td>0.0</td>\n",
       "      <td>TEST BRANDCODE @1612366146051</td>\n",
       "    </tr>\n",
       "    <tr>\n",
       "      <th>4</th>\n",
       "      <td>{'$oid': '601ac142be37ce2ead43755e'}</td>\n",
       "      <td>511111319917</td>\n",
       "      <td>Candy &amp; Sweets</td>\n",
       "      <td>CANDY_AND_SWEETS</td>\n",
       "      <td>{'$id': {'$oid': '5332fa12e4b03c9a25efd1e7'}, ...</td>\n",
       "      <td>test brand @1612366146827</td>\n",
       "      <td>0.0</td>\n",
       "      <td>TEST BRANDCODE @1612366146827</td>\n",
       "    </tr>\n",
       "  </tbody>\n",
       "</table>\n",
       "</div>"
      ],
      "text/plain": [
       "                                    _id       barcode        category  \\\n",
       "0  {'$oid': '601ac115be37ce2ead437551'}  511111019862          Baking   \n",
       "1  {'$oid': '601c5460be37ce2ead43755f'}  511111519928       Beverages   \n",
       "2  {'$oid': '601ac142be37ce2ead43755d'}  511111819905          Baking   \n",
       "3  {'$oid': '601ac142be37ce2ead43755a'}  511111519874          Baking   \n",
       "4  {'$oid': '601ac142be37ce2ead43755e'}  511111319917  Candy & Sweets   \n",
       "\n",
       "       categoryCode                                                cpg  \\\n",
       "0            BAKING  {'$id': {'$oid': '601ac114be37ce2ead437550'}, ...   \n",
       "1         BEVERAGES  {'$id': {'$oid': '5332f5fbe4b03c9a25efd0ba'}, ...   \n",
       "2            BAKING  {'$id': {'$oid': '601ac142be37ce2ead437559'}, ...   \n",
       "3            BAKING  {'$id': {'$oid': '601ac142be37ce2ead437559'}, ...   \n",
       "4  CANDY_AND_SWEETS  {'$id': {'$oid': '5332fa12e4b03c9a25efd1e7'}, ...   \n",
       "\n",
       "                        name  topBrand                      brandCode  \n",
       "0  test brand @1612366101024       0.0                            NaN  \n",
       "1                  Starbucks       0.0                      STARBUCKS  \n",
       "2  test brand @1612366146176       0.0  TEST BRANDCODE @1612366146176  \n",
       "3  test brand @1612366146051       0.0  TEST BRANDCODE @1612366146051  \n",
       "4  test brand @1612366146827       0.0  TEST BRANDCODE @1612366146827  "
      ]
     },
     "execution_count": 11,
     "metadata": {},
     "output_type": "execute_result"
    }
   ],
   "source": [
    "brands_raw.head()"
   ]
  },
  {
   "cell_type": "code",
   "execution_count": 12,
   "id": "2860ceca",
   "metadata": {},
   "outputs": [
    {
     "name": "stdout",
     "output_type": "stream",
     "text": [
      "Properties of brand Id:  {'$oid'}\n",
      "Properties of brand cpg:  {'$id', '$ref'}\n"
     ]
    }
   ],
   "source": [
    "print(\"Properties of brand Id: \", getAllProperties(brands_raw['_id']))\n",
    "print(\"Properties of brand cpg: \", getAllProperties(brands_raw['cpg']))"
   ]
  },
  {
   "cell_type": "code",
   "execution_count": 13,
   "id": "067c8935",
   "metadata": {},
   "outputs": [
    {
     "data": {
      "application/vnd.jupyter.widget-view+json": {
       "model_id": "95351f90f0ac469d9baef91708e9b3f2",
       "version_major": 2,
       "version_minor": 0
      },
      "text/plain": [
       "Pandas Apply:   0%|          | 0/1167 [00:00<?, ?it/s]"
      ]
     },
     "metadata": {},
     "output_type": "display_data"
    },
    {
     "data": {
      "application/vnd.jupyter.widget-view+json": {
       "model_id": "020812a95591475cbf4d57d1e519911d",
       "version_major": 2,
       "version_minor": 0
      },
      "text/plain": [
       "Pandas Apply:   0%|          | 0/1167 [00:00<?, ?it/s]"
      ]
     },
     "metadata": {},
     "output_type": "display_data"
    },
    {
     "data": {
      "application/vnd.jupyter.widget-view+json": {
       "model_id": "f8d7facfb314485b836e79f8e30f33b1",
       "version_major": 2,
       "version_minor": 0
      },
      "text/plain": [
       "Pandas Apply:   0%|          | 0/1167 [00:00<?, ?it/s]"
      ]
     },
     "metadata": {},
     "output_type": "display_data"
    }
   ],
   "source": [
    "brands = brands_raw.copy()\n",
    "\n",
    "brands['id'] = brands['_id'].swifter.apply(lambda x: x['$oid'] if x else np.nan)\n",
    "\n",
    "brands['topBrand'] = brands['topBrand'].astype(bool).astype('Int32').fillna(0)\n",
    "\n",
    "brands['cpg_id'] = brands['cpg'].swifter.apply(lambda x: x['$id'].get('$oid') if type(x) is dict else np.nan)\n",
    "brands['cpg_ref'] = brands['cpg'].swifter.apply(lambda x: x['$ref'] if type(x) is dict else np.nan)"
   ]
  },
  {
   "cell_type": "code",
   "execution_count": 14,
   "id": "ab86b705",
   "metadata": {},
   "outputs": [
    {
     "data": {
      "text/html": [
       "<div>\n",
       "<style scoped>\n",
       "    .dataframe tbody tr th:only-of-type {\n",
       "        vertical-align: middle;\n",
       "    }\n",
       "\n",
       "    .dataframe tbody tr th {\n",
       "        vertical-align: top;\n",
       "    }\n",
       "\n",
       "    .dataframe thead th {\n",
       "        text-align: right;\n",
       "    }\n",
       "</style>\n",
       "<table border=\"1\" class=\"dataframe\">\n",
       "  <thead>\n",
       "    <tr style=\"text-align: right;\">\n",
       "      <th></th>\n",
       "      <th>barcode</th>\n",
       "      <th>categoryCode</th>\n",
       "      <th>brandCode</th>\n",
       "      <th>cpg_id</th>\n",
       "      <th>cpg_ref</th>\n",
       "    </tr>\n",
       "  </thead>\n",
       "  <tbody>\n",
       "    <tr>\n",
       "      <th>0</th>\n",
       "      <td>511111019862</td>\n",
       "      <td>BAKING</td>\n",
       "      <td>NaN</td>\n",
       "      <td>601ac114be37ce2ead437550</td>\n",
       "      <td>Cogs</td>\n",
       "    </tr>\n",
       "    <tr>\n",
       "      <th>1</th>\n",
       "      <td>511111519928</td>\n",
       "      <td>BEVERAGES</td>\n",
       "      <td>STARBUCKS</td>\n",
       "      <td>5332f5fbe4b03c9a25efd0ba</td>\n",
       "      <td>Cogs</td>\n",
       "    </tr>\n",
       "    <tr>\n",
       "      <th>2</th>\n",
       "      <td>511111819905</td>\n",
       "      <td>BAKING</td>\n",
       "      <td>TEST BRANDCODE @1612366146176</td>\n",
       "      <td>601ac142be37ce2ead437559</td>\n",
       "      <td>Cogs</td>\n",
       "    </tr>\n",
       "    <tr>\n",
       "      <th>3</th>\n",
       "      <td>511111519874</td>\n",
       "      <td>BAKING</td>\n",
       "      <td>TEST BRANDCODE @1612366146051</td>\n",
       "      <td>601ac142be37ce2ead437559</td>\n",
       "      <td>Cogs</td>\n",
       "    </tr>\n",
       "    <tr>\n",
       "      <th>4</th>\n",
       "      <td>511111319917</td>\n",
       "      <td>CANDY_AND_SWEETS</td>\n",
       "      <td>TEST BRANDCODE @1612366146827</td>\n",
       "      <td>5332fa12e4b03c9a25efd1e7</td>\n",
       "      <td>Cogs</td>\n",
       "    </tr>\n",
       "  </tbody>\n",
       "</table>\n",
       "</div>"
      ],
      "text/plain": [
       "        barcode      categoryCode                      brandCode  \\\n",
       "0  511111019862            BAKING                            NaN   \n",
       "1  511111519928         BEVERAGES                      STARBUCKS   \n",
       "2  511111819905            BAKING  TEST BRANDCODE @1612366146176   \n",
       "3  511111519874            BAKING  TEST BRANDCODE @1612366146051   \n",
       "4  511111319917  CANDY_AND_SWEETS  TEST BRANDCODE @1612366146827   \n",
       "\n",
       "                     cpg_id cpg_ref  \n",
       "0  601ac114be37ce2ead437550    Cogs  \n",
       "1  5332f5fbe4b03c9a25efd0ba    Cogs  \n",
       "2  601ac142be37ce2ead437559    Cogs  \n",
       "3  601ac142be37ce2ead437559    Cogs  \n",
       "4  5332fa12e4b03c9a25efd1e7    Cogs  "
      ]
     },
     "execution_count": 14,
     "metadata": {},
     "output_type": "execute_result"
    }
   ],
   "source": [
    "items = brands.loc[:,['barcode','categoryCode','brandCode','cpg_id','cpg_ref']]\n",
    "items.head()"
   ]
  },
  {
   "cell_type": "code",
   "execution_count": 15,
   "id": "717a5a79",
   "metadata": {
    "scrolled": true
   },
   "outputs": [
    {
     "data": {
      "text/html": [
       "<div>\n",
       "<style scoped>\n",
       "    .dataframe tbody tr th:only-of-type {\n",
       "        vertical-align: middle;\n",
       "    }\n",
       "\n",
       "    .dataframe tbody tr th {\n",
       "        vertical-align: top;\n",
       "    }\n",
       "\n",
       "    .dataframe thead th {\n",
       "        text-align: right;\n",
       "    }\n",
       "</style>\n",
       "<table border=\"1\" class=\"dataframe\">\n",
       "  <thead>\n",
       "    <tr style=\"text-align: right;\">\n",
       "      <th></th>\n",
       "      <th>categoryCode</th>\n",
       "      <th>category</th>\n",
       "    </tr>\n",
       "  </thead>\n",
       "  <tbody>\n",
       "    <tr>\n",
       "      <th>0</th>\n",
       "      <td>BAKING</td>\n",
       "      <td>Baking</td>\n",
       "    </tr>\n",
       "    <tr>\n",
       "      <th>1</th>\n",
       "      <td>BEVERAGES</td>\n",
       "      <td>Beverages</td>\n",
       "    </tr>\n",
       "    <tr>\n",
       "      <th>2</th>\n",
       "      <td>BAKING</td>\n",
       "      <td>Baking</td>\n",
       "    </tr>\n",
       "    <tr>\n",
       "      <th>3</th>\n",
       "      <td>BAKING</td>\n",
       "      <td>Baking</td>\n",
       "    </tr>\n",
       "    <tr>\n",
       "      <th>4</th>\n",
       "      <td>CANDY_AND_SWEETS</td>\n",
       "      <td>Candy &amp; Sweets</td>\n",
       "    </tr>\n",
       "  </tbody>\n",
       "</table>\n",
       "</div>"
      ],
      "text/plain": [
       "       categoryCode        category\n",
       "0            BAKING          Baking\n",
       "1         BEVERAGES       Beverages\n",
       "2            BAKING          Baking\n",
       "3            BAKING          Baking\n",
       "4  CANDY_AND_SWEETS  Candy & Sweets"
      ]
     },
     "execution_count": 15,
     "metadata": {},
     "output_type": "execute_result"
    }
   ],
   "source": [
    "categories = brands.loc[:,['categoryCode','category']]\n",
    "categories.head()"
   ]
  },
  {
   "cell_type": "code",
   "execution_count": 16,
   "id": "350e7bce",
   "metadata": {},
   "outputs": [
    {
     "data": {
      "text/html": [
       "<div>\n",
       "<style scoped>\n",
       "    .dataframe tbody tr th:only-of-type {\n",
       "        vertical-align: middle;\n",
       "    }\n",
       "\n",
       "    .dataframe tbody tr th {\n",
       "        vertical-align: top;\n",
       "    }\n",
       "\n",
       "    .dataframe thead th {\n",
       "        text-align: right;\n",
       "    }\n",
       "</style>\n",
       "<table border=\"1\" class=\"dataframe\">\n",
       "  <thead>\n",
       "    <tr style=\"text-align: right;\">\n",
       "      <th></th>\n",
       "      <th>name</th>\n",
       "      <th>topBrand</th>\n",
       "      <th>brandCode</th>\n",
       "      <th>id</th>\n",
       "    </tr>\n",
       "  </thead>\n",
       "  <tbody>\n",
       "    <tr>\n",
       "      <th>0</th>\n",
       "      <td>test brand @1612366101024</td>\n",
       "      <td>0</td>\n",
       "      <td>NaN</td>\n",
       "      <td>601ac115be37ce2ead437551</td>\n",
       "    </tr>\n",
       "    <tr>\n",
       "      <th>1</th>\n",
       "      <td>Starbucks</td>\n",
       "      <td>0</td>\n",
       "      <td>STARBUCKS</td>\n",
       "      <td>601c5460be37ce2ead43755f</td>\n",
       "    </tr>\n",
       "    <tr>\n",
       "      <th>2</th>\n",
       "      <td>test brand @1612366146176</td>\n",
       "      <td>0</td>\n",
       "      <td>TEST BRANDCODE @1612366146176</td>\n",
       "      <td>601ac142be37ce2ead43755d</td>\n",
       "    </tr>\n",
       "    <tr>\n",
       "      <th>3</th>\n",
       "      <td>test brand @1612366146051</td>\n",
       "      <td>0</td>\n",
       "      <td>TEST BRANDCODE @1612366146051</td>\n",
       "      <td>601ac142be37ce2ead43755a</td>\n",
       "    </tr>\n",
       "    <tr>\n",
       "      <th>4</th>\n",
       "      <td>test brand @1612366146827</td>\n",
       "      <td>0</td>\n",
       "      <td>TEST BRANDCODE @1612366146827</td>\n",
       "      <td>601ac142be37ce2ead43755e</td>\n",
       "    </tr>\n",
       "  </tbody>\n",
       "</table>\n",
       "</div>"
      ],
      "text/plain": [
       "                        name  topBrand                      brandCode  \\\n",
       "0  test brand @1612366101024         0                            NaN   \n",
       "1                  Starbucks         0                      STARBUCKS   \n",
       "2  test brand @1612366146176         0  TEST BRANDCODE @1612366146176   \n",
       "3  test brand @1612366146051         0  TEST BRANDCODE @1612366146051   \n",
       "4  test brand @1612366146827         0  TEST BRANDCODE @1612366146827   \n",
       "\n",
       "                         id  \n",
       "0  601ac115be37ce2ead437551  \n",
       "1  601c5460be37ce2ead43755f  \n",
       "2  601ac142be37ce2ead43755d  \n",
       "3  601ac142be37ce2ead43755a  \n",
       "4  601ac142be37ce2ead43755e  "
      ]
     },
     "execution_count": 16,
     "metadata": {},
     "output_type": "execute_result"
    }
   ],
   "source": [
    "brands.drop(['_id','cpg','barcode','category','categoryCode','cpg_id','cpg_ref'], axis=1, inplace=True)\n",
    "brands.head()"
   ]
  },
  {
   "cell_type": "markdown",
   "id": "cffc2756",
   "metadata": {},
   "source": [
    "**I have separated brands, items and a roll-up of items called categories into separate tables** all in third normal form."
   ]
  },
  {
   "cell_type": "markdown",
   "id": "cb5ad5a6",
   "metadata": {},
   "source": [
    "## 1.5 Create Transactions Schema"
   ]
  },
  {
   "cell_type": "markdown",
   "id": "463f92de",
   "metadata": {},
   "source": [
    "Next, I create the Transactions schema. **It is intentionally separated from Receipts because they are different entities of varying importance for Fetch.**"
   ]
  },
  {
   "cell_type": "code",
   "execution_count": 17,
   "id": "6db4381b",
   "metadata": {},
   "outputs": [
    {
     "data": {
      "application/vnd.jupyter.widget-view+json": {
       "model_id": "f6d75373054747b4954e0c8b8996195c",
       "version_major": 2,
       "version_minor": 0
      },
      "text/plain": [
       "Pandas Apply:   0%|          | 0/1119 [00:00<?, ?it/s]"
      ]
     },
     "metadata": {},
     "output_type": "display_data"
    },
    {
     "data": {
      "application/vnd.jupyter.widget-view+json": {
       "model_id": "500e81b9c8384c3eae09934e8f9c6799",
       "version_major": 2,
       "version_minor": 0
      },
      "text/plain": [
       "Pandas Apply:   0%|          | 0/1119 [00:00<?, ?it/s]"
      ]
     },
     "metadata": {},
     "output_type": "display_data"
    },
    {
     "data": {
      "text/html": [
       "<div>\n",
       "<style scoped>\n",
       "    .dataframe tbody tr th:only-of-type {\n",
       "        vertical-align: middle;\n",
       "    }\n",
       "\n",
       "    .dataframe tbody tr th {\n",
       "        vertical-align: top;\n",
       "    }\n",
       "\n",
       "    .dataframe thead th {\n",
       "        text-align: right;\n",
       "    }\n",
       "</style>\n",
       "<table border=\"1\" class=\"dataframe\">\n",
       "  <thead>\n",
       "    <tr style=\"text-align: right;\">\n",
       "      <th></th>\n",
       "      <th>id</th>\n",
       "      <th>receiptId</th>\n",
       "      <th>transactionDate</th>\n",
       "      <th>userId</th>\n",
       "      <th>totalSpent</th>\n",
       "    </tr>\n",
       "  </thead>\n",
       "  <tbody>\n",
       "    <tr>\n",
       "      <th>0</th>\n",
       "      <td>0</td>\n",
       "      <td>5ff1e1eb0a720f0523000575</td>\n",
       "      <td>2021-01-03 00:00:00</td>\n",
       "      <td>5ff1e1eacfcf6c399c274ae6</td>\n",
       "      <td>26.0</td>\n",
       "    </tr>\n",
       "    <tr>\n",
       "      <th>1</th>\n",
       "      <td>1</td>\n",
       "      <td>5ff1e1bb0a720f052300056b</td>\n",
       "      <td>2021-01-02 15:24:43</td>\n",
       "      <td>5ff1e194b6a9d73a3a9f1052</td>\n",
       "      <td>11.0</td>\n",
       "    </tr>\n",
       "    <tr>\n",
       "      <th>2</th>\n",
       "      <td>2</td>\n",
       "      <td>5ff1e1f10a720f052300057a</td>\n",
       "      <td>2021-01-03 00:00:00</td>\n",
       "      <td>5ff1e1f1cfcf6c399c274b0b</td>\n",
       "      <td>10.0</td>\n",
       "    </tr>\n",
       "    <tr>\n",
       "      <th>3</th>\n",
       "      <td>3</td>\n",
       "      <td>5ff1e1ee0a7214ada100056f</td>\n",
       "      <td>2021-01-03 00:00:00</td>\n",
       "      <td>5ff1e1eacfcf6c399c274ae6</td>\n",
       "      <td>28.0</td>\n",
       "    </tr>\n",
       "    <tr>\n",
       "      <th>4</th>\n",
       "      <td>4</td>\n",
       "      <td>5ff1e1d20a7214ada1000561</td>\n",
       "      <td>2021-01-02 15:25:06</td>\n",
       "      <td>5ff1e194b6a9d73a3a9f1052</td>\n",
       "      <td>1.0</td>\n",
       "    </tr>\n",
       "  </tbody>\n",
       "</table>\n",
       "</div>"
      ],
      "text/plain": [
       "   id                 receiptId      transactionDate  \\\n",
       "0   0  5ff1e1eb0a720f0523000575  2021-01-03 00:00:00   \n",
       "1   1  5ff1e1bb0a720f052300056b  2021-01-02 15:24:43   \n",
       "2   2  5ff1e1f10a720f052300057a  2021-01-03 00:00:00   \n",
       "3   3  5ff1e1ee0a7214ada100056f  2021-01-03 00:00:00   \n",
       "4   4  5ff1e1d20a7214ada1000561  2021-01-02 15:25:06   \n",
       "\n",
       "                     userId  totalSpent  \n",
       "0  5ff1e1eacfcf6c399c274ae6        26.0  \n",
       "1  5ff1e194b6a9d73a3a9f1052        11.0  \n",
       "2  5ff1e1f1cfcf6c399c274b0b        10.0  \n",
       "3  5ff1e1eacfcf6c399c274ae6        28.0  \n",
       "4  5ff1e194b6a9d73a3a9f1052         1.0  "
      ]
     },
     "execution_count": 17,
     "metadata": {},
     "output_type": "execute_result"
    }
   ],
   "source": [
    "transactions = receipts_raw.loc[:, ['_id','purchaseDate','userId','totalSpent']]\n",
    "transactions.reset_index(inplace=True)\n",
    "transactions.rename(columns = {'index':'id','_id':'receiptId','purchaseDate':'transactionDate'}, inplace=True)\n",
    "\n",
    "transactions['receiptId'] = transactions['receiptId'].swifter.apply(lambda x: x['$oid'] if x else np.nan)\n",
    "\n",
    "transactions['transactionDate'] = transactions['transactionDate'].swifter.apply(lambda x: timestamp2datetime(x['$date']) if type(x) is dict else np.nan)\n",
    "\n",
    "transactions.drop_duplicates(inplace=True)\n",
    "transactions.head()"
   ]
  },
  {
   "cell_type": "markdown",
   "id": "74d50f10",
   "metadata": {},
   "source": [
    "The Transactions schema is ready. However, a single transaction could have multiple items and we need to account for that."
   ]
  },
  {
   "cell_type": "markdown",
   "id": "d52c3a6c",
   "metadata": {},
   "source": [
    "## 1.6 Create TransactionItems Schema"
   ]
  },
  {
   "cell_type": "code",
   "execution_count": 18,
   "id": "c1708068",
   "metadata": {},
   "outputs": [],
   "source": [
    "receipt2transaction = dict(zip(transactions.receiptId, transactions.id))"
   ]
  },
  {
   "cell_type": "code",
   "execution_count": 19,
   "id": "6f9e7607",
   "metadata": {},
   "outputs": [
    {
     "data": {
      "application/vnd.jupyter.widget-view+json": {
       "model_id": "3a827bf8b0594ff385bfb3b92879af5b",
       "version_major": 2,
       "version_minor": 0
      },
      "text/plain": [
       "Pandas Apply:   0%|          | 0/7381 [00:00<?, ?it/s]"
      ]
     },
     "metadata": {},
     "output_type": "display_data"
    },
    {
     "data": {
      "application/vnd.jupyter.widget-view+json": {
       "model_id": "8411276bc340492eb465db2d2cac9eb1",
       "version_major": 2,
       "version_minor": 0
      },
      "text/plain": [
       "Pandas Apply:   0%|          | 0/7381 [00:00<?, ?it/s]"
      ]
     },
     "metadata": {},
     "output_type": "display_data"
    },
    {
     "data": {
      "application/vnd.jupyter.widget-view+json": {
       "model_id": "342d22233c0f49f988dabfc6bf48b6dd",
       "version_major": 2,
       "version_minor": 0
      },
      "text/plain": [
       "Pandas Apply:   0%|          | 0/7381 [00:00<?, ?it/s]"
      ]
     },
     "metadata": {},
     "output_type": "display_data"
    }
   ],
   "source": [
    "receiptLineItems_raw = receipts_raw[['_id','rewardsReceiptItemList']].explode('rewardsReceiptItemList').reset_index(drop=True)\n",
    "receiptLineItems_raw['rewardsReceiptItemList'] = receiptLineItems_raw['rewardsReceiptItemList'].swifter.apply(lambda x: dict() if x is np.nan else x)\n",
    "\n",
    "receiptLineItems = pd.DataFrame.from_dict(list(receiptLineItems_raw.rewardsReceiptItemList))\n",
    "\n",
    "receiptLineItems['receiptId'] = receiptLineItems_raw['_id'].swifter.apply(lambda x: x['$oid'] if x else np.nan)\n",
    "\n",
    "receiptLineItems['transactionId'] = receiptLineItems['receiptId'].swifter.apply(lambda x: receipt2transaction.get(x))\n",
    "\n",
    "for col in ['needsFetchReview','userFlaggedNewItem','preventTargetGapPoints','deleted','competitiveProduct']:\n",
    "    receiptLineItems[col] = receiptLineItems[col].astype(bool).astype('Int32').fillna(0)"
   ]
  },
  {
   "cell_type": "code",
   "execution_count": 20,
   "id": "0f78603e",
   "metadata": {},
   "outputs": [
    {
     "data": {
      "text/html": [
       "<div>\n",
       "<style scoped>\n",
       "    .dataframe tbody tr th:only-of-type {\n",
       "        vertical-align: middle;\n",
       "    }\n",
       "\n",
       "    .dataframe tbody tr th {\n",
       "        vertical-align: top;\n",
       "    }\n",
       "\n",
       "    .dataframe thead th {\n",
       "        text-align: right;\n",
       "    }\n",
       "</style>\n",
       "<table border=\"1\" class=\"dataframe\">\n",
       "  <thead>\n",
       "    <tr style=\"text-align: right;\">\n",
       "      <th></th>\n",
       "      <th>id</th>\n",
       "      <th>transactionId</th>\n",
       "      <th>barcode</th>\n",
       "      <th>deleted</th>\n",
       "      <th>finalPrice</th>\n",
       "      <th>itemPrice</th>\n",
       "      <th>priceAfterCoupon</th>\n",
       "      <th>discountedItemPrice</th>\n",
       "      <th>originalFinalPrice</th>\n",
       "      <th>quantityPurchased</th>\n",
       "      <th>...</th>\n",
       "      <th>partnerItemId</th>\n",
       "      <th>metabriteCampaignId</th>\n",
       "      <th>userFlaggedBarcode</th>\n",
       "      <th>userFlaggedNewItem</th>\n",
       "      <th>userFlaggedPrice</th>\n",
       "      <th>userFlaggedQuantity</th>\n",
       "      <th>needsFetchReview</th>\n",
       "      <th>needsFetchReviewReason</th>\n",
       "      <th>originalMetaBriteBarcode</th>\n",
       "      <th>originalMetaBriteQuantityPurchased</th>\n",
       "    </tr>\n",
       "  </thead>\n",
       "  <tbody>\n",
       "    <tr>\n",
       "      <th>0</th>\n",
       "      <td>0</td>\n",
       "      <td>0</td>\n",
       "      <td>4011</td>\n",
       "      <td>1</td>\n",
       "      <td>26.00</td>\n",
       "      <td>26.00</td>\n",
       "      <td>NaN</td>\n",
       "      <td>NaN</td>\n",
       "      <td>NaN</td>\n",
       "      <td>5.0</td>\n",
       "      <td>...</td>\n",
       "      <td>1</td>\n",
       "      <td>NaN</td>\n",
       "      <td>4011</td>\n",
       "      <td>1</td>\n",
       "      <td>26.00</td>\n",
       "      <td>5.0</td>\n",
       "      <td>0</td>\n",
       "      <td>NaN</td>\n",
       "      <td>NaN</td>\n",
       "      <td>NaN</td>\n",
       "    </tr>\n",
       "    <tr>\n",
       "      <th>1</th>\n",
       "      <td>1</td>\n",
       "      <td>1</td>\n",
       "      <td>4011</td>\n",
       "      <td>1</td>\n",
       "      <td>1</td>\n",
       "      <td>1</td>\n",
       "      <td>NaN</td>\n",
       "      <td>NaN</td>\n",
       "      <td>NaN</td>\n",
       "      <td>1.0</td>\n",
       "      <td>...</td>\n",
       "      <td>1</td>\n",
       "      <td>NaN</td>\n",
       "      <td>NaN</td>\n",
       "      <td>1</td>\n",
       "      <td>NaN</td>\n",
       "      <td>NaN</td>\n",
       "      <td>1</td>\n",
       "      <td>NaN</td>\n",
       "      <td>NaN</td>\n",
       "      <td>NaN</td>\n",
       "    </tr>\n",
       "    <tr>\n",
       "      <th>2</th>\n",
       "      <td>2</td>\n",
       "      <td>1</td>\n",
       "      <td>028400642255</td>\n",
       "      <td>1</td>\n",
       "      <td>10.00</td>\n",
       "      <td>10.00</td>\n",
       "      <td>NaN</td>\n",
       "      <td>NaN</td>\n",
       "      <td>NaN</td>\n",
       "      <td>1.0</td>\n",
       "      <td>...</td>\n",
       "      <td>2</td>\n",
       "      <td>NaN</td>\n",
       "      <td>028400642255</td>\n",
       "      <td>1</td>\n",
       "      <td>10.00</td>\n",
       "      <td>1.0</td>\n",
       "      <td>1</td>\n",
       "      <td>USER_FLAGGED</td>\n",
       "      <td>NaN</td>\n",
       "      <td>NaN</td>\n",
       "    </tr>\n",
       "    <tr>\n",
       "      <th>3</th>\n",
       "      <td>3</td>\n",
       "      <td>2</td>\n",
       "      <td>NaN</td>\n",
       "      <td>1</td>\n",
       "      <td>NaN</td>\n",
       "      <td>NaN</td>\n",
       "      <td>NaN</td>\n",
       "      <td>NaN</td>\n",
       "      <td>NaN</td>\n",
       "      <td>NaN</td>\n",
       "      <td>...</td>\n",
       "      <td>1</td>\n",
       "      <td>NaN</td>\n",
       "      <td>4011</td>\n",
       "      <td>1</td>\n",
       "      <td>26.00</td>\n",
       "      <td>3.0</td>\n",
       "      <td>0</td>\n",
       "      <td>NaN</td>\n",
       "      <td>NaN</td>\n",
       "      <td>NaN</td>\n",
       "    </tr>\n",
       "    <tr>\n",
       "      <th>4</th>\n",
       "      <td>4</td>\n",
       "      <td>3</td>\n",
       "      <td>4011</td>\n",
       "      <td>1</td>\n",
       "      <td>28.00</td>\n",
       "      <td>28.00</td>\n",
       "      <td>NaN</td>\n",
       "      <td>NaN</td>\n",
       "      <td>NaN</td>\n",
       "      <td>4.0</td>\n",
       "      <td>...</td>\n",
       "      <td>1</td>\n",
       "      <td>NaN</td>\n",
       "      <td>4011</td>\n",
       "      <td>1</td>\n",
       "      <td>28.00</td>\n",
       "      <td>4.0</td>\n",
       "      <td>0</td>\n",
       "      <td>NaN</td>\n",
       "      <td>NaN</td>\n",
       "      <td>NaN</td>\n",
       "    </tr>\n",
       "  </tbody>\n",
       "</table>\n",
       "<p>5 rows × 21 columns</p>\n",
       "</div>"
      ],
      "text/plain": [
       "   id  transactionId       barcode  deleted finalPrice itemPrice  \\\n",
       "0   0              0          4011        1      26.00     26.00   \n",
       "1   1              1          4011        1          1         1   \n",
       "2   2              1  028400642255        1      10.00     10.00   \n",
       "3   3              2           NaN        1        NaN       NaN   \n",
       "4   4              3          4011        1      28.00     28.00   \n",
       "\n",
       "  priceAfterCoupon discountedItemPrice originalFinalPrice  quantityPurchased  \\\n",
       "0              NaN                 NaN                NaN                5.0   \n",
       "1              NaN                 NaN                NaN                1.0   \n",
       "2              NaN                 NaN                NaN                1.0   \n",
       "3              NaN                 NaN                NaN                NaN   \n",
       "4              NaN                 NaN                NaN                4.0   \n",
       "\n",
       "   ... partnerItemId metabriteCampaignId userFlaggedBarcode  \\\n",
       "0  ...             1                 NaN               4011   \n",
       "1  ...             1                 NaN                NaN   \n",
       "2  ...             2                 NaN       028400642255   \n",
       "3  ...             1                 NaN               4011   \n",
       "4  ...             1                 NaN               4011   \n",
       "\n",
       "  userFlaggedNewItem  userFlaggedPrice userFlaggedQuantity  needsFetchReview  \\\n",
       "0                  1             26.00                 5.0                 0   \n",
       "1                  1               NaN                 NaN                 1   \n",
       "2                  1             10.00                 1.0                 1   \n",
       "3                  1             26.00                 3.0                 0   \n",
       "4                  1             28.00                 4.0                 0   \n",
       "\n",
       "   needsFetchReviewReason originalMetaBriteBarcode  \\\n",
       "0                     NaN                      NaN   \n",
       "1                     NaN                      NaN   \n",
       "2            USER_FLAGGED                      NaN   \n",
       "3                     NaN                      NaN   \n",
       "4                     NaN                      NaN   \n",
       "\n",
       "  originalMetaBriteQuantityPurchased  \n",
       "0                                NaN  \n",
       "1                                NaN  \n",
       "2                                NaN  \n",
       "3                                NaN  \n",
       "4                                NaN  \n",
       "\n",
       "[5 rows x 21 columns]"
      ]
     },
     "execution_count": 20,
     "metadata": {},
     "output_type": "execute_result"
    }
   ],
   "source": [
    "transactionLineItems = receiptLineItems.loc[:,['transactionId','barcode','deleted','finalPrice','itemPrice','priceAfterCoupon','discountedItemPrice','originalFinalPrice','quantityPurchased',\n",
    "                        'originalMetaBriteItemPrice','partnerItemId','metabriteCampaignId',\n",
    "                        'userFlaggedBarcode','userFlaggedNewItem','userFlaggedPrice','userFlaggedQuantity',\n",
    "                        'needsFetchReview','needsFetchReviewReason','originalMetaBriteBarcode','originalMetaBriteQuantityPurchased']]\n",
    "\n",
    "transactionLineItems = transactionLineItems.reset_index().rename(columns={'index':'id'})\n",
    "\n",
    "transactionLineItems.head()"
   ]
  },
  {
   "cell_type": "markdown",
   "id": "16e377e4",
   "metadata": {},
   "source": [
    "Now every transaction item is a separate record, is linked to its parent transaction and has important properties related to price, discounts, partner and campaign.  \n",
    "\n",
    "I also noticed that some items in receipts were missing in my Items schema, let us add those. I will exclude those items from receipts which do not have a brandCode."
   ]
  },
  {
   "cell_type": "code",
   "execution_count": 21,
   "id": "8b8d8ee1",
   "metadata": {},
   "outputs": [],
   "source": [
    "items = pd.concat(\n",
    "    [\n",
    "        items, \n",
    "        receiptLineItems.loc[~receiptLineItems.brandCode.isna(), ['barcode','brandCode']]\n",
    "    ], \n",
    "    ignore_index=True)\n",
    "\n",
    "items.drop_duplicates('barcode',inplace=True)"
   ]
  },
  {
   "cell_type": "markdown",
   "id": "e92a2263",
   "metadata": {},
   "source": [
    "## 1.7 Create Receipts Schema"
   ]
  },
  {
   "cell_type": "markdown",
   "id": "684ca3db",
   "metadata": {},
   "source": [
    "Receipts are the backbone at Fetch. **When a customer scans, an event is created which triggers the processing pipeline that evaluates rewards points.** A receipt is linked to an actual purchase aka transaction."
   ]
  },
  {
   "cell_type": "code",
   "execution_count": 22,
   "id": "815e0486",
   "metadata": {},
   "outputs": [
    {
     "data": {
      "application/vnd.jupyter.widget-view+json": {
       "model_id": "516b53a27236455c857f6ca35e7ffdb5",
       "version_major": 2,
       "version_minor": 0
      },
      "text/plain": [
       "Pandas Apply:   0%|          | 0/1119 [00:00<?, ?it/s]"
      ]
     },
     "metadata": {},
     "output_type": "display_data"
    },
    {
     "data": {
      "application/vnd.jupyter.widget-view+json": {
       "model_id": "6d829cc152e940518346f8154d59180d",
       "version_major": 2,
       "version_minor": 0
      },
      "text/plain": [
       "Pandas Apply:   0%|          | 0/1119 [00:00<?, ?it/s]"
      ]
     },
     "metadata": {},
     "output_type": "display_data"
    },
    {
     "data": {
      "application/vnd.jupyter.widget-view+json": {
       "model_id": "c0fd598563da43be91e3db6f751328d1",
       "version_major": 2,
       "version_minor": 0
      },
      "text/plain": [
       "Pandas Apply:   0%|          | 0/1119 [00:00<?, ?it/s]"
      ]
     },
     "metadata": {},
     "output_type": "display_data"
    },
    {
     "data": {
      "application/vnd.jupyter.widget-view+json": {
       "model_id": "391cc3a9611849b1948ccb0a6948bd12",
       "version_major": 2,
       "version_minor": 0
      },
      "text/plain": [
       "Pandas Apply:   0%|          | 0/1119 [00:00<?, ?it/s]"
      ]
     },
     "metadata": {},
     "output_type": "display_data"
    },
    {
     "data": {
      "application/vnd.jupyter.widget-view+json": {
       "model_id": "b7879bfa5d014300a8d42962a26c565a",
       "version_major": 2,
       "version_minor": 0
      },
      "text/plain": [
       "Pandas Apply:   0%|          | 0/1119 [00:00<?, ?it/s]"
      ]
     },
     "metadata": {},
     "output_type": "display_data"
    },
    {
     "data": {
      "application/vnd.jupyter.widget-view+json": {
       "model_id": "761d688c1a7e4476bbcbc428ee0e6d3b",
       "version_major": 2,
       "version_minor": 0
      },
      "text/plain": [
       "Pandas Apply:   0%|          | 0/1119 [00:00<?, ?it/s]"
      ]
     },
     "metadata": {},
     "output_type": "display_data"
    }
   ],
   "source": [
    "receipts = receipts_raw.loc[:,['_id','createDate','dateScanned','finishedDate','modifyDate','userId','pointsEarned']]\n",
    "\n",
    "receipts['id'] = receipts['_id'].swifter.apply(lambda x: x['$oid'] if x else np.nan)\n",
    "\n",
    "receipts['createDate'] = receipts['createDate'].swifter.apply(lambda x: timestamp2datetime(x['$date']) if type(x) is dict else np.nan)\n",
    "\n",
    "receipts['dateScanned'] = receipts['dateScanned'].swifter.apply(lambda x: timestamp2datetime(x['$date']) if type(x) is dict else np.nan)\n",
    "\n",
    "receipts['finishedDate'] = receipts['finishedDate'].swifter.apply(lambda x: timestamp2datetime(x['$date']) if type(x) is dict else np.nan)\n",
    "\n",
    "receipts['modifyDate'] = receipts['modifyDate'].swifter.apply(lambda x: timestamp2datetime(x['$date']) if type(x) is dict else np.nan)\n",
    "\n",
    "receipts['transactionId'] = receipts['id'].swifter.apply(lambda x: receipt2transaction.get(x))\n",
    "\n",
    "receipts.drop_duplicates('id',inplace=True)\n",
    "receipts.drop('_id',axis=1,inplace=True)"
   ]
  },
  {
   "cell_type": "code",
   "execution_count": 23,
   "id": "60779661",
   "metadata": {},
   "outputs": [
    {
     "data": {
      "text/html": [
       "<div>\n",
       "<style scoped>\n",
       "    .dataframe tbody tr th:only-of-type {\n",
       "        vertical-align: middle;\n",
       "    }\n",
       "\n",
       "    .dataframe tbody tr th {\n",
       "        vertical-align: top;\n",
       "    }\n",
       "\n",
       "    .dataframe thead th {\n",
       "        text-align: right;\n",
       "    }\n",
       "</style>\n",
       "<table border=\"1\" class=\"dataframe\">\n",
       "  <thead>\n",
       "    <tr style=\"text-align: right;\">\n",
       "      <th></th>\n",
       "      <th>createDate</th>\n",
       "      <th>dateScanned</th>\n",
       "      <th>finishedDate</th>\n",
       "      <th>modifyDate</th>\n",
       "      <th>userId</th>\n",
       "      <th>pointsEarned</th>\n",
       "      <th>id</th>\n",
       "      <th>transactionId</th>\n",
       "    </tr>\n",
       "  </thead>\n",
       "  <tbody>\n",
       "    <tr>\n",
       "      <th>0</th>\n",
       "      <td>2021-01-03 15:25:31</td>\n",
       "      <td>2021-01-03 15:25:31</td>\n",
       "      <td>2021-01-03 15:25:31</td>\n",
       "      <td>2021-01-03 15:25:36</td>\n",
       "      <td>5ff1e1eacfcf6c399c274ae6</td>\n",
       "      <td>500.0</td>\n",
       "      <td>5ff1e1eb0a720f0523000575</td>\n",
       "      <td>0</td>\n",
       "    </tr>\n",
       "    <tr>\n",
       "      <th>1</th>\n",
       "      <td>2021-01-03 15:24:43</td>\n",
       "      <td>2021-01-03 15:24:43</td>\n",
       "      <td>2021-01-03 15:24:43</td>\n",
       "      <td>2021-01-03 15:24:48</td>\n",
       "      <td>5ff1e194b6a9d73a3a9f1052</td>\n",
       "      <td>150.0</td>\n",
       "      <td>5ff1e1bb0a720f052300056b</td>\n",
       "      <td>1</td>\n",
       "    </tr>\n",
       "    <tr>\n",
       "      <th>2</th>\n",
       "      <td>2021-01-03 15:25:37</td>\n",
       "      <td>2021-01-03 15:25:37</td>\n",
       "      <td>NaN</td>\n",
       "      <td>2021-01-03 15:25:42</td>\n",
       "      <td>5ff1e1f1cfcf6c399c274b0b</td>\n",
       "      <td>5.0</td>\n",
       "      <td>5ff1e1f10a720f052300057a</td>\n",
       "      <td>2</td>\n",
       "    </tr>\n",
       "    <tr>\n",
       "      <th>3</th>\n",
       "      <td>2021-01-03 15:25:34</td>\n",
       "      <td>2021-01-03 15:25:34</td>\n",
       "      <td>2021-01-03 15:25:34</td>\n",
       "      <td>2021-01-03 15:25:39</td>\n",
       "      <td>5ff1e1eacfcf6c399c274ae6</td>\n",
       "      <td>5.0</td>\n",
       "      <td>5ff1e1ee0a7214ada100056f</td>\n",
       "      <td>3</td>\n",
       "    </tr>\n",
       "    <tr>\n",
       "      <th>4</th>\n",
       "      <td>2021-01-03 15:25:06</td>\n",
       "      <td>2021-01-03 15:25:06</td>\n",
       "      <td>2021-01-03 15:25:11</td>\n",
       "      <td>2021-01-03 15:25:11</td>\n",
       "      <td>5ff1e194b6a9d73a3a9f1052</td>\n",
       "      <td>5.0</td>\n",
       "      <td>5ff1e1d20a7214ada1000561</td>\n",
       "      <td>4</td>\n",
       "    </tr>\n",
       "  </tbody>\n",
       "</table>\n",
       "</div>"
      ],
      "text/plain": [
       "            createDate          dateScanned         finishedDate  \\\n",
       "0  2021-01-03 15:25:31  2021-01-03 15:25:31  2021-01-03 15:25:31   \n",
       "1  2021-01-03 15:24:43  2021-01-03 15:24:43  2021-01-03 15:24:43   \n",
       "2  2021-01-03 15:25:37  2021-01-03 15:25:37                  NaN   \n",
       "3  2021-01-03 15:25:34  2021-01-03 15:25:34  2021-01-03 15:25:34   \n",
       "4  2021-01-03 15:25:06  2021-01-03 15:25:06  2021-01-03 15:25:11   \n",
       "\n",
       "            modifyDate                    userId  pointsEarned  \\\n",
       "0  2021-01-03 15:25:36  5ff1e1eacfcf6c399c274ae6         500.0   \n",
       "1  2021-01-03 15:24:48  5ff1e194b6a9d73a3a9f1052         150.0   \n",
       "2  2021-01-03 15:25:42  5ff1e1f1cfcf6c399c274b0b           5.0   \n",
       "3  2021-01-03 15:25:39  5ff1e1eacfcf6c399c274ae6           5.0   \n",
       "4  2021-01-03 15:25:11  5ff1e194b6a9d73a3a9f1052           5.0   \n",
       "\n",
       "                         id  transactionId  \n",
       "0  5ff1e1eb0a720f0523000575              0  \n",
       "1  5ff1e1bb0a720f052300056b              1  \n",
       "2  5ff1e1f10a720f052300057a              2  \n",
       "3  5ff1e1ee0a7214ada100056f              3  \n",
       "4  5ff1e1d20a7214ada1000561              4  "
      ]
     },
     "execution_count": 23,
     "metadata": {},
     "output_type": "execute_result"
    }
   ],
   "source": [
    "receipts.head()"
   ]
  },
  {
   "cell_type": "markdown",
   "id": "8b51f057",
   "metadata": {},
   "source": [
    "With the Receipts schema ready, we can tackle the final piece in our design - **Rewards**."
   ]
  },
  {
   "cell_type": "markdown",
   "id": "2be9dafd",
   "metadata": {},
   "source": [
    "## 1.8 Create Rewards Schema"
   ]
  },
  {
   "cell_type": "markdown",
   "id": "a9e3db0e",
   "metadata": {},
   "source": [
    "Rewards are what drives the customer into a feedback loop of scanning and saving. They are an entity of their own."
   ]
  },
  {
   "cell_type": "code",
   "execution_count": 24,
   "id": "81568c22",
   "metadata": {
    "scrolled": true
   },
   "outputs": [
    {
     "data": {
      "application/vnd.jupyter.widget-view+json": {
       "model_id": "4eff8f7fa7b74c6dae888df68e79858c",
       "version_major": 2,
       "version_minor": 0
      },
      "text/plain": [
       "Pandas Apply:   0%|          | 0/1119 [00:00<?, ?it/s]"
      ]
     },
     "metadata": {},
     "output_type": "display_data"
    },
    {
     "data": {
      "application/vnd.jupyter.widget-view+json": {
       "model_id": "72ce307e75604c46828a8e5bf85b9a23",
       "version_major": 2,
       "version_minor": 0
      },
      "text/plain": [
       "Pandas Apply:   0%|          | 0/1119 [00:00<?, ?it/s]"
      ]
     },
     "metadata": {},
     "output_type": "display_data"
    },
    {
     "data": {
      "text/html": [
       "<div>\n",
       "<style scoped>\n",
       "    .dataframe tbody tr th:only-of-type {\n",
       "        vertical-align: middle;\n",
       "    }\n",
       "\n",
       "    .dataframe tbody tr th {\n",
       "        vertical-align: top;\n",
       "    }\n",
       "\n",
       "    .dataframe thead th {\n",
       "        text-align: right;\n",
       "    }\n",
       "</style>\n",
       "<table border=\"1\" class=\"dataframe\">\n",
       "  <thead>\n",
       "    <tr style=\"text-align: right;\">\n",
       "      <th></th>\n",
       "      <th>id</th>\n",
       "      <th>bonusPointsEarned</th>\n",
       "      <th>bonusPointsEarnedReason</th>\n",
       "      <th>pointsAwardedDate</th>\n",
       "      <th>pointsEarned</th>\n",
       "      <th>rewardsReceiptStatus</th>\n",
       "      <th>receiptId</th>\n",
       "    </tr>\n",
       "  </thead>\n",
       "  <tbody>\n",
       "    <tr>\n",
       "      <th>0</th>\n",
       "      <td>0</td>\n",
       "      <td>500.0</td>\n",
       "      <td>Receipt number 2 completed, bonus point schedu...</td>\n",
       "      <td>2021-01-03 15:25:31</td>\n",
       "      <td>500.0</td>\n",
       "      <td>FINISHED</td>\n",
       "      <td>5ff1e1eb0a720f0523000575</td>\n",
       "    </tr>\n",
       "    <tr>\n",
       "      <th>1</th>\n",
       "      <td>1</td>\n",
       "      <td>150.0</td>\n",
       "      <td>Receipt number 5 completed, bonus point schedu...</td>\n",
       "      <td>2021-01-03 15:24:43</td>\n",
       "      <td>150.0</td>\n",
       "      <td>FINISHED</td>\n",
       "      <td>5ff1e1bb0a720f052300056b</td>\n",
       "    </tr>\n",
       "    <tr>\n",
       "      <th>2</th>\n",
       "      <td>2</td>\n",
       "      <td>5.0</td>\n",
       "      <td>All-receipts receipt bonus</td>\n",
       "      <td>NaN</td>\n",
       "      <td>5.0</td>\n",
       "      <td>REJECTED</td>\n",
       "      <td>5ff1e1f10a720f052300057a</td>\n",
       "    </tr>\n",
       "    <tr>\n",
       "      <th>3</th>\n",
       "      <td>3</td>\n",
       "      <td>5.0</td>\n",
       "      <td>All-receipts receipt bonus</td>\n",
       "      <td>2021-01-03 15:25:34</td>\n",
       "      <td>5.0</td>\n",
       "      <td>FINISHED</td>\n",
       "      <td>5ff1e1ee0a7214ada100056f</td>\n",
       "    </tr>\n",
       "    <tr>\n",
       "      <th>4</th>\n",
       "      <td>4</td>\n",
       "      <td>5.0</td>\n",
       "      <td>All-receipts receipt bonus</td>\n",
       "      <td>2021-01-03 15:25:06</td>\n",
       "      <td>5.0</td>\n",
       "      <td>FINISHED</td>\n",
       "      <td>5ff1e1d20a7214ada1000561</td>\n",
       "    </tr>\n",
       "  </tbody>\n",
       "</table>\n",
       "</div>"
      ],
      "text/plain": [
       "   id  bonusPointsEarned                            bonusPointsEarnedReason  \\\n",
       "0   0              500.0  Receipt number 2 completed, bonus point schedu...   \n",
       "1   1              150.0  Receipt number 5 completed, bonus point schedu...   \n",
       "2   2                5.0                         All-receipts receipt bonus   \n",
       "3   3                5.0                         All-receipts receipt bonus   \n",
       "4   4                5.0                         All-receipts receipt bonus   \n",
       "\n",
       "     pointsAwardedDate  pointsEarned rewardsReceiptStatus  \\\n",
       "0  2021-01-03 15:25:31         500.0             FINISHED   \n",
       "1  2021-01-03 15:24:43         150.0             FINISHED   \n",
       "2                  NaN           5.0             REJECTED   \n",
       "3  2021-01-03 15:25:34           5.0             FINISHED   \n",
       "4  2021-01-03 15:25:06           5.0             FINISHED   \n",
       "\n",
       "                  receiptId  \n",
       "0  5ff1e1eb0a720f0523000575  \n",
       "1  5ff1e1bb0a720f052300056b  \n",
       "2  5ff1e1f10a720f052300057a  \n",
       "3  5ff1e1ee0a7214ada100056f  \n",
       "4  5ff1e1d20a7214ada1000561  "
      ]
     },
     "execution_count": 24,
     "metadata": {},
     "output_type": "execute_result"
    }
   ],
   "source": [
    "rewards = receipts_raw.loc[:,['_id','bonusPointsEarned','bonusPointsEarnedReason','pointsAwardedDate','pointsEarned',\n",
    "                            'rewardsReceiptStatus']]\n",
    "\n",
    "rewards['receiptId'] = rewards['_id'].swifter.apply(lambda x: x['$oid'] if x else np.nan)\n",
    "\n",
    "rewards['pointsAwardedDate'] = rewards['pointsAwardedDate'].swifter.apply(lambda x: timestamp2datetime(x['$date']) if type(x) is dict else np.nan)\n",
    "\n",
    "rewards.drop_duplicates('receiptId',inplace=True)\n",
    "rewards.drop('_id',axis=1,inplace=True)\n",
    "\n",
    "rewards = rewards.reset_index().rename(columns={'index':'id'})\n",
    "\n",
    "rewards.head()"
   ]
  },
  {
   "cell_type": "markdown",
   "id": "777a9565",
   "metadata": {},
   "source": [
    "Next, I understand that rewards are processed at a granular level of items - some items are eligible and some are not."
   ]
  },
  {
   "cell_type": "markdown",
   "id": "764532a6",
   "metadata": {},
   "source": [
    "## Create RewardReceiptItems Schema"
   ]
  },
  {
   "cell_type": "markdown",
   "id": "b6e42aa8",
   "metadata": {},
   "source": [
    "Our final schema records the rewards earned for every item on the receipt that was purchased."
   ]
  },
  {
   "cell_type": "code",
   "execution_count": 25,
   "id": "a789b17f",
   "metadata": {},
   "outputs": [
    {
     "data": {
      "text/html": [
       "<div>\n",
       "<style scoped>\n",
       "    .dataframe tbody tr th:only-of-type {\n",
       "        vertical-align: middle;\n",
       "    }\n",
       "\n",
       "    .dataframe tbody tr th {\n",
       "        vertical-align: top;\n",
       "    }\n",
       "\n",
       "    .dataframe thead th {\n",
       "        text-align: right;\n",
       "    }\n",
       "</style>\n",
       "<table border=\"1\" class=\"dataframe\">\n",
       "  <thead>\n",
       "    <tr style=\"text-align: right;\">\n",
       "      <th></th>\n",
       "      <th>id</th>\n",
       "      <th>transactionItemId</th>\n",
       "      <th>receiptId</th>\n",
       "      <th>originalReceiptItemText</th>\n",
       "      <th>itemNumber</th>\n",
       "      <th>pointsNotAwardedReason</th>\n",
       "      <th>pointsPayerId</th>\n",
       "      <th>rewardsGroup</th>\n",
       "      <th>rewardsProductPartnerId</th>\n",
       "      <th>competitorRewardsGroup</th>\n",
       "      <th>pointsEarned</th>\n",
       "    </tr>\n",
       "  </thead>\n",
       "  <tbody>\n",
       "    <tr>\n",
       "      <th>0</th>\n",
       "      <td>0</td>\n",
       "      <td>0</td>\n",
       "      <td>5ff1e1eb0a720f0523000575</td>\n",
       "      <td>NaN</td>\n",
       "      <td>NaN</td>\n",
       "      <td>NaN</td>\n",
       "      <td>NaN</td>\n",
       "      <td>NaN</td>\n",
       "      <td>NaN</td>\n",
       "      <td>NaN</td>\n",
       "      <td>NaN</td>\n",
       "    </tr>\n",
       "    <tr>\n",
       "      <th>1</th>\n",
       "      <td>1</td>\n",
       "      <td>1</td>\n",
       "      <td>5ff1e1bb0a720f052300056b</td>\n",
       "      <td>NaN</td>\n",
       "      <td>NaN</td>\n",
       "      <td>NaN</td>\n",
       "      <td>NaN</td>\n",
       "      <td>NaN</td>\n",
       "      <td>NaN</td>\n",
       "      <td>NaN</td>\n",
       "      <td>NaN</td>\n",
       "    </tr>\n",
       "    <tr>\n",
       "      <th>2</th>\n",
       "      <td>2</td>\n",
       "      <td>2</td>\n",
       "      <td>5ff1e1bb0a720f052300056b</td>\n",
       "      <td>NaN</td>\n",
       "      <td>NaN</td>\n",
       "      <td>Action not allowed for user and CPG</td>\n",
       "      <td>5332f5fbe4b03c9a25efd0ba</td>\n",
       "      <td>DORITOS SPICY SWEET CHILI SINGLE SERVE</td>\n",
       "      <td>5332f5fbe4b03c9a25efd0ba</td>\n",
       "      <td>NaN</td>\n",
       "      <td>NaN</td>\n",
       "    </tr>\n",
       "    <tr>\n",
       "      <th>3</th>\n",
       "      <td>3</td>\n",
       "      <td>3</td>\n",
       "      <td>5ff1e1f10a720f052300057a</td>\n",
       "      <td>NaN</td>\n",
       "      <td>NaN</td>\n",
       "      <td>NaN</td>\n",
       "      <td>NaN</td>\n",
       "      <td>NaN</td>\n",
       "      <td>NaN</td>\n",
       "      <td>NaN</td>\n",
       "      <td>NaN</td>\n",
       "    </tr>\n",
       "    <tr>\n",
       "      <th>4</th>\n",
       "      <td>4</td>\n",
       "      <td>4</td>\n",
       "      <td>5ff1e1ee0a7214ada100056f</td>\n",
       "      <td>NaN</td>\n",
       "      <td>NaN</td>\n",
       "      <td>NaN</td>\n",
       "      <td>NaN</td>\n",
       "      <td>NaN</td>\n",
       "      <td>NaN</td>\n",
       "      <td>NaN</td>\n",
       "      <td>NaN</td>\n",
       "    </tr>\n",
       "  </tbody>\n",
       "</table>\n",
       "</div>"
      ],
      "text/plain": [
       "   id  transactionItemId                 receiptId originalReceiptItemText  \\\n",
       "0   0                  0  5ff1e1eb0a720f0523000575                     NaN   \n",
       "1   1                  1  5ff1e1bb0a720f052300056b                     NaN   \n",
       "2   2                  2  5ff1e1bb0a720f052300056b                     NaN   \n",
       "3   3                  3  5ff1e1f10a720f052300057a                     NaN   \n",
       "4   4                  4  5ff1e1ee0a7214ada100056f                     NaN   \n",
       "\n",
       "  itemNumber               pointsNotAwardedReason             pointsPayerId  \\\n",
       "0        NaN                                  NaN                       NaN   \n",
       "1        NaN                                  NaN                       NaN   \n",
       "2        NaN  Action not allowed for user and CPG  5332f5fbe4b03c9a25efd0ba   \n",
       "3        NaN                                  NaN                       NaN   \n",
       "4        NaN                                  NaN                       NaN   \n",
       "\n",
       "                             rewardsGroup   rewardsProductPartnerId  \\\n",
       "0                                     NaN                       NaN   \n",
       "1                                     NaN                       NaN   \n",
       "2  DORITOS SPICY SWEET CHILI SINGLE SERVE  5332f5fbe4b03c9a25efd0ba   \n",
       "3                                     NaN                       NaN   \n",
       "4                                     NaN                       NaN   \n",
       "\n",
       "  competitorRewardsGroup pointsEarned  \n",
       "0                    NaN          NaN  \n",
       "1                    NaN          NaN  \n",
       "2                    NaN          NaN  \n",
       "3                    NaN          NaN  \n",
       "4                    NaN          NaN  "
      ]
     },
     "execution_count": 25,
     "metadata": {},
     "output_type": "execute_result"
    }
   ],
   "source": [
    "rewardReceiptItems = receiptLineItems.loc[:,['receiptId','originalReceiptItemText','itemNumber','pointsNotAwardedReason',\n",
    "                                                  'pointsPayerId','rewardsGroup','rewardsProductPartnerId',\n",
    "                                                  'competitorRewardsGroup','pointsEarned']]\n",
    "\n",
    "rewardReceiptItems = rewardReceiptItems.reset_index().reset_index()\n",
    "\n",
    "rewardReceiptItems.rename(columns={'level_0':'id','index':'transactionItemId'}, inplace=True)\n",
    "\n",
    "rewardReceiptItems.head()"
   ]
  },
  {
   "cell_type": "markdown",
   "id": "cff09ec7",
   "metadata": {},
   "source": [
    "# Section 2: Import Schema Into MySQL Server"
   ]
  },
  {
   "cell_type": "markdown",
   "id": "77b319b0",
   "metadata": {},
   "source": [
    "With the schema ready to be deployed, I will connect to my local MySQL server to push the dataframes into tables. This would help me run queries for identifying data quality issues and other analytics."
   ]
  },
  {
   "cell_type": "markdown",
   "id": "dad48fc6",
   "metadata": {},
   "source": [
    "## 2.1 Create Database Connection"
   ]
  },
  {
   "cell_type": "code",
   "execution_count": 26,
   "id": "8a59753f",
   "metadata": {},
   "outputs": [],
   "source": [
    "config = json.load(open('config.json'))\n",
    "\n",
    "user, password, port, host, db = config.values()\n",
    "\n",
    "sqlEngine       = create_engine(f'mysql+pymysql://{user}:{password}@{host}:{port}/{db}')\n",
    "dbConnection    = sqlEngine.connect()"
   ]
  },
  {
   "cell_type": "markdown",
   "id": "10acdf51",
   "metadata": {},
   "source": [
    "## 2.2 Write DataFrames into MySQL Tables"
   ]
  },
  {
   "cell_type": "code",
   "execution_count": null,
   "id": "b0829079",
   "metadata": {},
   "outputs": [],
   "source": [
    "users.to_sql('users', dbConnection, if_exists='fail')\n",
    "brands.to_sql('brands', dbConnection, if_exists='fail')\n",
    "items.to_sql('items', dbConnection, if_exists='fail')\n",
    "categories.to_sql('categories', dbConnection, if_exists='fail')\n",
    "transactions.to_sql('transactions', dbConnection, if_exists='fail')\n",
    "transactionLineItems.to_sql('transactionItems', dbConnection, if_exists='fail')\n",
    "receipts.to_sql('receipts', dbConnection, if_exists='fail')\n",
    "rewards.to_sql('rewards', dbConnection, if_exists='fail')\n",
    "rewardReceiptItems.to_sql('rewardReceiptItems', dbConnection, if_exists='fail')"
   ]
  },
  {
   "cell_type": "markdown",
   "id": "3f5e2747",
   "metadata": {},
   "source": [
    "### Done!\n",
    "\n",
    "Data is ready, switch to the other files to see the queries I hit against this."
   ]
  }
 ],
 "metadata": {
  "kernelspec": {
   "display_name": "Python 3 (ipykernel)",
   "language": "python",
   "name": "python3"
  },
  "language_info": {
   "codemirror_mode": {
    "name": "ipython",
    "version": 3
   },
   "file_extension": ".py",
   "mimetype": "text/x-python",
   "name": "python",
   "nbconvert_exporter": "python",
   "pygments_lexer": "ipython3",
   "version": "3.9.7"
  }
 },
 "nbformat": 4,
 "nbformat_minor": 5
}
